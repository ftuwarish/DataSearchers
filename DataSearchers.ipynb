{
 "cells": [Hi Guys, please clone this jupyter notebook to your local machine. Thank you!],
 "metadata": {},
 "nbformat": 4,
 "nbformat_minor": 5
}
