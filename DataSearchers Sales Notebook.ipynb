{
 "cells": [
  {
   "cell_type": "code",
   "execution_count": 29,
   "id": "28de8819-9d6b-4b2d-833b-37e8146fd502",
   "metadata": {},
   "outputs": [
    {
     "data": {
      "text/html": [
       "<div>\n",
       "<style scoped>\n",
       "    .dataframe tbody tr th:only-of-type {\n",
       "        vertical-align: middle;\n",
       "    }\n",
       "\n",
       "    .dataframe tbody tr th {\n",
       "        vertical-align: top;\n",
       "    }\n",
       "\n",
       "    .dataframe thead th {\n",
       "        text-align: right;\n",
       "    }\n",
       "</style>\n",
       "<table border=\"1\" class=\"dataframe\">\n",
       "  <thead>\n",
       "    <tr style=\"text-align: right;\">\n",
       "      <th></th>\n",
       "      <th>Year</th>\n",
       "      <th>Make</th>\n",
       "      <th>Model</th>\n",
       "      <th>Used/New</th>\n",
       "      <th>Price</th>\n",
       "      <th>ConsumerRating</th>\n",
       "      <th>ConsumerReviews</th>\n",
       "      <th>SellerType</th>\n",
       "      <th>SellerName</th>\n",
       "      <th>SellerRating</th>\n",
       "      <th>...</th>\n",
       "      <th>InteriorColor</th>\n",
       "      <th>Drivetrain</th>\n",
       "      <th>MinMPG</th>\n",
       "      <th>MaxMPG</th>\n",
       "      <th>FuelType</th>\n",
       "      <th>Transmission</th>\n",
       "      <th>Engine</th>\n",
       "      <th>VIN</th>\n",
       "      <th>Stock#</th>\n",
       "      <th>Mileage</th>\n",
       "    </tr>\n",
       "  </thead>\n",
       "  <tbody>\n",
       "    <tr>\n",
       "      <th>0</th>\n",
       "      <td>2019</td>\n",
       "      <td>Toyota</td>\n",
       "      <td>Sienna SE</td>\n",
       "      <td>Used</td>\n",
       "      <td>$39,998</td>\n",
       "      <td>4.6</td>\n",
       "      <td>45</td>\n",
       "      <td>Dealer</td>\n",
       "      <td>CarMax Murrieta - Now offering Curbside Pickup...</td>\n",
       "      <td>3.3</td>\n",
       "      <td>...</td>\n",
       "      <td>Black</td>\n",
       "      <td>Front-wheel Drive</td>\n",
       "      <td>19</td>\n",
       "      <td>27</td>\n",
       "      <td>Gasoline</td>\n",
       "      <td>8-Speed Automatic</td>\n",
       "      <td>3.5L V6 24V PDI DOHC</td>\n",
       "      <td>5TDXZ3DC2KS015402</td>\n",
       "      <td>22998646</td>\n",
       "      <td>29403</td>\n",
       "    </tr>\n",
       "    <tr>\n",
       "      <th>1</th>\n",
       "      <td>2018</td>\n",
       "      <td>Ford</td>\n",
       "      <td>F-150 Lariat</td>\n",
       "      <td>Used</td>\n",
       "      <td>$49,985</td>\n",
       "      <td>4.8</td>\n",
       "      <td>817</td>\n",
       "      <td>Dealer</td>\n",
       "      <td>Giant Chevrolet</td>\n",
       "      <td>4.8</td>\n",
       "      <td>...</td>\n",
       "      <td>Black</td>\n",
       "      <td>Four-wheel Drive</td>\n",
       "      <td>19</td>\n",
       "      <td>24</td>\n",
       "      <td>Gasoline</td>\n",
       "      <td>10-Speed Automatic</td>\n",
       "      <td>3.5L V6 24V PDI DOHC Twin Turbo</td>\n",
       "      <td>1FTEW1EG2JFD44217</td>\n",
       "      <td>22418A</td>\n",
       "      <td>32929</td>\n",
       "    </tr>\n",
       "    <tr>\n",
       "      <th>2</th>\n",
       "      <td>2017</td>\n",
       "      <td>RAM</td>\n",
       "      <td>1500 Laramie</td>\n",
       "      <td>Used</td>\n",
       "      <td>$41,860</td>\n",
       "      <td>4.7</td>\n",
       "      <td>495</td>\n",
       "      <td>Dealer</td>\n",
       "      <td>Gill Auto Group Madera</td>\n",
       "      <td>4.6</td>\n",
       "      <td>...</td>\n",
       "      <td>Black</td>\n",
       "      <td>Four-wheel Drive</td>\n",
       "      <td>15</td>\n",
       "      <td>21</td>\n",
       "      <td>Gasoline</td>\n",
       "      <td>8-Speed Automatic</td>\n",
       "      <td>5.7L V8 16V MPFI OHV</td>\n",
       "      <td>1C6RR7VT5HS842283</td>\n",
       "      <td>NG277871G</td>\n",
       "      <td>23173</td>\n",
       "    </tr>\n",
       "    <tr>\n",
       "      <th>3</th>\n",
       "      <td>2021</td>\n",
       "      <td>Honda</td>\n",
       "      <td>Accord Sport SE</td>\n",
       "      <td>Used</td>\n",
       "      <td>$28,500</td>\n",
       "      <td>5.0</td>\n",
       "      <td>36</td>\n",
       "      <td>Dealer</td>\n",
       "      <td>AutoSavvy Las Vegas</td>\n",
       "      <td>4.6</td>\n",
       "      <td>...</td>\n",
       "      <td>–</td>\n",
       "      <td>Front-wheel Drive</td>\n",
       "      <td>29</td>\n",
       "      <td>35</td>\n",
       "      <td>Gasoline</td>\n",
       "      <td>Automatic CVT</td>\n",
       "      <td>1.5L I4 16V GDI DOHC Turbo</td>\n",
       "      <td>1HGCV1F49MA038035</td>\n",
       "      <td>54237</td>\n",
       "      <td>10598</td>\n",
       "    </tr>\n",
       "    <tr>\n",
       "      <th>4</th>\n",
       "      <td>2020</td>\n",
       "      <td>Lexus</td>\n",
       "      <td>RX 350</td>\n",
       "      <td>Used</td>\n",
       "      <td>$49,000</td>\n",
       "      <td>4.8</td>\n",
       "      <td>76</td>\n",
       "      <td>Dealer</td>\n",
       "      <td>Lexus of Henderson</td>\n",
       "      <td>4.8</td>\n",
       "      <td>...</td>\n",
       "      <td>Birch</td>\n",
       "      <td>Front-wheel Drive</td>\n",
       "      <td>20</td>\n",
       "      <td>27</td>\n",
       "      <td>Gasoline</td>\n",
       "      <td>8-Speed Automatic</td>\n",
       "      <td>3.5L V6 24V PDI DOHC</td>\n",
       "      <td>2T2AZMAA8LC156270</td>\n",
       "      <td>HDT4181A</td>\n",
       "      <td>28137</td>\n",
       "    </tr>\n",
       "  </tbody>\n",
       "</table>\n",
       "<p>5 rows × 32 columns</p>\n",
       "</div>"
      ],
      "text/plain": [
       "   Year    Make            Model Used/New    Price  ConsumerRating  \\\n",
       "0  2019  Toyota        Sienna SE     Used  $39,998             4.6   \n",
       "1  2018    Ford     F-150 Lariat     Used  $49,985             4.8   \n",
       "2  2017     RAM     1500 Laramie     Used  $41,860             4.7   \n",
       "3  2021   Honda  Accord Sport SE     Used  $28,500             5.0   \n",
       "4  2020   Lexus           RX 350     Used  $49,000             4.8   \n",
       "\n",
       "   ConsumerReviews SellerType  \\\n",
       "0               45     Dealer   \n",
       "1              817     Dealer   \n",
       "2              495     Dealer   \n",
       "3               36     Dealer   \n",
       "4               76     Dealer   \n",
       "\n",
       "                                          SellerName  SellerRating  ...  \\\n",
       "0  CarMax Murrieta - Now offering Curbside Pickup...           3.3  ...   \n",
       "1                                    Giant Chevrolet           4.8  ...   \n",
       "2                             Gill Auto Group Madera           4.6  ...   \n",
       "3                                AutoSavvy Las Vegas           4.6  ...   \n",
       "4                                 Lexus of Henderson           4.8  ...   \n",
       "\n",
       "   InteriorColor         Drivetrain MinMPG MaxMPG  FuelType  \\\n",
       "0          Black  Front-wheel Drive     19     27  Gasoline   \n",
       "1          Black   Four-wheel Drive     19     24  Gasoline   \n",
       "2          Black   Four-wheel Drive     15     21  Gasoline   \n",
       "3              –  Front-wheel Drive     29     35  Gasoline   \n",
       "4          Birch  Front-wheel Drive     20     27  Gasoline   \n",
       "\n",
       "         Transmission                           Engine                VIN  \\\n",
       "0   8-Speed Automatic             3.5L V6 24V PDI DOHC  5TDXZ3DC2KS015402   \n",
       "1  10-Speed Automatic  3.5L V6 24V PDI DOHC Twin Turbo  1FTEW1EG2JFD44217   \n",
       "2   8-Speed Automatic             5.7L V8 16V MPFI OHV  1C6RR7VT5HS842283   \n",
       "3       Automatic CVT       1.5L I4 16V GDI DOHC Turbo  1HGCV1F49MA038035   \n",
       "4   8-Speed Automatic             3.5L V6 24V PDI DOHC  2T2AZMAA8LC156270   \n",
       "\n",
       "      Stock#  Mileage  \n",
       "0   22998646    29403  \n",
       "1     22418A    32929  \n",
       "2  NG277871G    23173  \n",
       "3      54237    10598  \n",
       "4   HDT4181A    28137  \n",
       "\n",
       "[5 rows x 32 columns]"
      ]
     },
     "execution_count": 29,
     "metadata": {},
     "output_type": "execute_result"
    }
   ],
   "source": [
    "import pandas as pd\n",
    "import matplotlib.pyplot as plt\n",
    "\n",
    "df = pd.read_csv('Online_Cars_Sale_Marketplace.csv')\n",
    "\n",
    "df.head()"
   ]
  },
  {
   "cell_type": "code",
   "execution_count": 31,
   "id": "15103478-c1c2-48a3-8420-726cbf84f06a",
   "metadata": {},
   "outputs": [
    {
     "data": {
      "text/plain": [
       "SellerName\n",
       "EchoPark Automotive Greenville                        36\n",
       "Autos of Dallas                                       35\n",
       "EchoPark Automotive Salt Lake City Delivery Center    33\n",
       "Principle Volvo Cars San Antonio                      25\n",
       "Mungenast St. Louis Honda                             19\n",
       "Name: count, dtype: int64"
      ]
     },
     "execution_count": 31,
     "metadata": {},
     "output_type": "execute_result"
    }
   ],
   "source": [
    "df['SellerName'].value_counts().head(5)"
   ]
  },
  {
   "cell_type": "code",
   "execution_count": 33,
   "id": "5fc4448f-de20-45c8-91cc-29b32570df7f",
   "metadata": {},
   "outputs": [
    {
     "name": "stdout",
     "output_type": "stream",
     "text": [
      "Number of cars with mileage over 100k: 202\n"
     ]
    }
   ],
   "source": [
    "high_mileage_cars = df[df['Mileage'] > 100000]\n",
    "count_high_mileage_cars = high_mileage_cars.shape[0]\n",
    "\n",
    "print(f'Number of cars with mileage over 100k: {count_high_mileage_cars}')"
   ]
  },
  {
   "cell_type": "code",
   "execution_count": 35,
   "id": "08fe4b82-4307-4a78-bbe5-0d2b1d0f3a84",
   "metadata": {},
   "outputs": [
    {
     "name": "stdout",
     "output_type": "stream",
     "text": [
      "      Year    Make                       Model     Price\n",
      "3     2021   Honda             Accord Sport SE   $28,500\n",
      "8     2021   Honda   Pilot Touring 8-Passenger   $44,299\n",
      "17    2021  Subaru           Crosstrek Premium   $25,500\n",
      "21    2021   Acura                  RDX A-Spec   $37,000\n",
      "22    2021   Acura                  RDX A-Spec   $38,000\n",
      "...    ...     ...                         ...       ...\n",
      "9350  2021   Honda                   CR-V EX-L   $37,890\n",
      "9354  2021   Acura                  TLX A-Spec   $45,998\n",
      "9360  2021    Land            Rover Defender X  $105,991\n",
      "9364  2021  Subaru  Ascent Limited 7-Passenger   $43,000\n",
      "9368  2021   Honda           Accord Sport 1.5T   $29,500\n",
      "\n",
      "[1429 rows x 4 columns]\n"
     ]
    }
   ],
   "source": [
    "newer_cars = df[df['Year'] > 2020][['Year', 'Make', 'Model', 'Price']]\n",
    "print(newer_cars)"
   ]
  },
  {
   "cell_type": "code",
   "execution_count": 37,
   "id": "eeb0809c-2ec4-43c5-b39c-72ee07b01e2b",
   "metadata": {},
   "outputs": [
    {
     "name": "stdout",
     "output_type": "stream",
     "text": [
      "Top five car makes:\n",
      "Make\n",
      "BMW              944\n",
      "Mercedes-Benz    810\n",
      "Toyota           797\n",
      "Honda            713\n",
      "Ford             580\n",
      "Name: count, dtype: int64\n"
     ]
    }
   ],
   "source": [
    "top_five_makes = df['Make'].value_counts().head(5)\n",
    "print(\"Top five car makes:\")\n",
    "print(top_five_makes)"
   ]
  },
  {
   "cell_type": "code",
   "execution_count": 39,
   "id": "b9975de6-0e50-4474-a521-2b10b8551ace",
   "metadata": {},
   "outputs": [
    {
     "name": "stdout",
     "output_type": "stream",
     "text": [
      "The number of listings in the dataset is: 9379\n"
     ]
    }
   ],
   "source": [
    "num_listings = df.shape[0]\n",
    "\n",
    "print(f'The number of listings in the dataset is: {num_listings}')"
   ]
  },
  {
   "cell_type": "code",
   "execution_count": 41,
   "id": "b6695628-9302-4c16-a6d3-b1c8cb80b695",
   "metadata": {},
   "outputs": [
    {
     "name": "stdout",
     "output_type": "stream",
     "text": [
      "Number of cars with a customer rating of 5.0: 336\n"
     ]
    }
   ],
   "source": [
    "count_5_rated_cars = df[df['ConsumerRating'] == 5.0].shape[0]\n",
    "print(f'Number of cars with a customer rating of 5.0: {count_5_rated_cars}')"
   ]
  },
  {
   "cell_type": "code",
   "execution_count": 43,
   "id": "d14ac954-18ec-4b9b-8c04-309daa4e31fb",
   "metadata": {},
   "outputs": [
    {
     "name": "stdout",
     "output_type": "stream",
     "text": [
      "Make\n",
      "BMW              944\n",
      "Mercedes-Benz    810\n",
      "Toyota           797\n",
      "Honda            713\n",
      "Ford             580\n",
      "Jeep             495\n",
      "Lexus            484\n",
      "Audi             424\n",
      "Chevrolet        416\n",
      "Subaru           310\n",
      "dtype: int64\n"
     ]
    }
   ],
   "source": [
    "popular_cars = df.groupby('Make').size().sort_values(ascending=False)\n",
    "\n",
    "print(popular_cars.head(10))"
   ]
  },
  {
   "cell_type": "code",
   "execution_count": 47,
   "id": "d29c9969-1923-4255-aba8-efc7a1aedd24",
   "metadata": {},
   "outputs": [
    {
     "data": {
      "image/png": "[encoded data removed]",
      "text/plain": [
       "<Figure size 1000x600 with 1 Axes>"
      ]
     },
     "metadata": {},
     "output_type": "display_data"
    }
   ],
   "source": [
    "popular_cars.head(10).plot(kind='bar', color='skyblue', figsize=(10, 6))\n",
    "plt.title('Top 10 Most Popular Car Makes')\n",
    "plt.xlabel('Car Make')\n",
    "plt.ylabel('Number of Listings')\n",
    "plt.xticks(rotation=45)\n",
    "plt.show()"
   ]
  },
  {
   "cell_type": "code",
   "execution_count": null,
   "id": "2b5b30b2-9716-47b8-a5c1-525307c7344e",
   "metadata": {},
   "outputs": [],
   "source": []
  }
 ],
 "metadata": {
  "kernelspec": {
   "display_name": "Python 3 (ipykernel)",
   "language": "python",
   "name": "python3"
  },
  "language_info": {
   "codemirror_mode": {
    "name": "ipython",
    "version": 3
   },
   "file_extension": ".py",
   "mimetype": "text/x-python",
   "name": "python",
   "nbconvert_exporter": "python",
   "pygments_lexer": "ipython3",
   "version": "3.12.4"
  }
 },
 "nbformat": 4,
 "nbformat_minor": 5
}
