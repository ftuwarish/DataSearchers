import pandas as pd

data = pd.read_csv('/Users/fatima/Desktop/DS311-Group-Project-Documentation/sale/Online_Cars_Sale_Marketplace.csv')

data.head()
